{
 "cells": [
  {
   "cell_type": "markdown",
   "metadata": {
    "collapsed": true
   },
   "source": [
    "# Deep Learning to Identify Traffic Signs\n",
    "\n",
    "Implemenation of deep neural network to identify traffic signs according to [German Traffic Sign Dataset](http://benchmark.ini.rub.de/?section=gtsrb&subsection=dataset).\n",
    "\n",
    "A paper titled [\"Traffic Sign Recognition with Multi-Scale Convolutional Networks\"](https://ieeexplore.ieee.org/abstract/document/6033589) was used as a baseline for the model and the [LeNet-5 architecture](https://ieeexplore.ieee.org/abstract/document/726791) by the same author was implemented here to train the model."
   ]
  },
  {
   "cell_type": "markdown",
   "metadata": {},
   "source": [
    "---\n",
    "## Load The Data"
   ]
  },
  {
   "cell_type": "code",
   "execution_count": null,
   "metadata": {},
   "outputs": [],
   "source": [
    "# Load pickled data\n",
    "import pickle\n",
    "\n",
    "training_file = './traffic-signs-data/train.p'\n",
    "validation_file = './traffic-signs-data/valid.p'\n",
    "testing_file = './traffic-signs-data/test.p'\n",
    "\n",
    "with open(training_file, mode='rb') as f:\n",
    "    train = pickle.load(f)\n",
    "with open(validation_file, mode='rb') as f:\n",
    "    valid = pickle.load(f)\n",
    "with open(testing_file, mode='rb') as f:\n",
    "    test = pickle.load(f)\n",
    "    \n",
    "X_train, y_train = train['features'], train['labels']\n",
    "X_valid, y_valid = valid['features'], valid['labels']\n",
    "X_test, y_test = test['features'], test['labels']"
   ]
  },
  {
   "cell_type": "markdown",
   "metadata": {},
   "source": [
    "---\n",
    "\n",
    "## Dataset Summary & Exploration\n",
    "\n",
    "The pickled data is a dictionary with 4 key/value pairs:\n",
    "\n",
    "- `'features'` is a 4D array containing raw pixel data of the traffic sign images, (num examples, width, height, channels).\n",
    "- `'labels'` is a 1D array containing the label/class id of the traffic sign. The file `signnames.csv` contains id -> name mappings for each id.\n",
    "- `'sizes'` is a list containing tuples, (width, height) representing the original width and height the image.\n",
    "- `'coords'` is a list containing tuples, (x1, y1, x2, y2) representing coordinates of a bounding box around the sign in the image."
   ]
  },
  {
   "cell_type": "markdown",
   "metadata": {},
   "source": [
    "### Basic Summary of the Data Set"
   ]
  },
  {
   "cell_type": "code",
   "execution_count": null,
   "metadata": {},
   "outputs": [],
   "source": [
    "num_train, img_height, img_width, img_depth = train['features'].shape\n",
    "\n",
    "n_train = num_train\n",
    "\n",
    "n_validation = len(X_valid)\n",
    "\n",
    "n_test = len(X_test)\n",
    "\n",
    "image_shape = (img_height, img_width, img_depth)\n",
    "\n",
    "y_train_set = set(y_train)\n",
    "y_valid_set = set(y_valid)\n",
    "y_test_set = set(y_test)\n",
    "n_classes = len(y_train_set.union(y_valid_set).union(y_test_set))\n",
    "\n",
    "print(\"Number of training examples =\", n_train)\n",
    "print(\"Number of validation examples =\", n_validation)\n",
    "print(\"Number of testing examples =\", n_test)\n",
    "print(\"Image data shape =\", image_shape)\n",
    "print(\"Number of classes =\", n_classes)"
   ]
  },
  {
   "cell_type": "markdown",
   "metadata": {},
   "source": [
    "### Sample of each traffic sign"
   ]
  },
  {
   "cell_type": "code",
   "execution_count": null,
   "metadata": {},
   "outputs": [],
   "source": [
    "import numpy as np\n",
    "import matplotlib.pyplot as plt\n",
    "import matplotlib.gridspec as gridspec\n",
    "%matplotlib inline\n",
    "\n",
    "signs = dict.fromkeys(range(0, 43))\n",
    "for k in signs:\n",
    "    indices = np.where(y_train==k)[0] \n",
    "    if indices.any():\n",
    "        signs[k] = X_train[indices.item(0)]\n",
    "        continue\n",
    "    indices = np.where(y_valid==k)[0] \n",
    "    if indices.any():\n",
    "        signs[k] = X_valid[indices.item(0)]\n",
    "        continue\n",
    "    indices = np.where(y_test==k)[0] \n",
    "    if indices.any():\n",
    "        signs[k] = X_test[indices.item(0)]\n",
    "\n",
    "        \n",
    "plt.figure(figsize=(20, 20))\n",
    "for code, image in signs.items():\n",
    "    plt.subplot(9, 5, code+1)\n",
    "    plt.axis(\"off\")\n",
    "    plt.subplots_adjust(hspace=0.3)\n",
    "    plt.title(str(code))\n",
    "    plt.imshow(image)\n"
   ]
  },
  {
   "cell_type": "markdown",
   "metadata": {},
   "source": [
    "### Preprocess the Data Set (Normalization and shuffling)"
   ]
  },
  {
   "cell_type": "code",
   "execution_count": null,
   "metadata": {},
   "outputs": [],
   "source": [
    "from sklearn.utils import shuffle\n",
    "\n",
    "# Normalize the data\n",
    "X_train = ((X_train - 127.5) / 127.5)\n",
    "X_valid = ((X_valid - 127.5) / 127.5)\n",
    "X_test = ((X_test - 127.5) / 127.5)\n",
    "\n",
    "X_train, y_train = shuffle(X_train, y_train)"
   ]
  },
  {
   "cell_type": "markdown",
   "metadata": {},
   "source": [
    "### Model Architecture"
   ]
  },
  {
   "cell_type": "code",
   "execution_count": null,
   "metadata": {},
   "outputs": [],
   "source": [
    "import tensorflow as tf\n",
    "from tensorflow.contrib.layers import flatten\n",
    "\n",
    "EPOCHS = 50\n",
    "BATCH_SIZE = 200\n",
    "\n",
    "def LeNet(x):\n",
    "    mu = 0\n",
    "    sigma = 0.1\n",
    "    \n",
    "    # Layer 1: Convolutional. Input = 32x32x3. Output = 28x28x6.\n",
    "    conv1_W = tf.Variable(tf.truncated_normal(shape=(5, 5, 3, 6), mean = mu, stddev = sigma))\n",
    "    conv1_b = tf.Variable(tf.zeros(6))\n",
    "    conv1   = tf.nn.conv2d(x, conv1_W, strides=[1, 1, 1, 1], padding='VALID') + conv1_b\n",
    "\n",
    "    # Activation.\n",
    "    conv1 = tf.nn.relu(conv1)\n",
    "\n",
    "    # Pooling. Input = 28x28x6. Output = 14x14x6.\n",
    "    conv1 = tf.nn.max_pool(conv1, ksize=[1, 2, 2, 1], strides=[1, 2, 2, 1], padding='VALID')\n",
    "\n",
    "    # Layer 2: Convolutional. Output = 10x10x16.\n",
    "    conv2_W = tf.Variable(tf.truncated_normal(shape=(5, 5, 6, 16), mean = mu, stddev = sigma))\n",
    "    conv2_b = tf.Variable(tf.zeros(16))\n",
    "    conv2   = tf.nn.conv2d(conv1, conv2_W, strides=[1, 1, 1, 1], padding='VALID') + conv2_b\n",
    "    \n",
    "    # Activation.\n",
    "    conv2 = tf.nn.relu(conv2)\n",
    "\n",
    "    # Pooling. Input = 10x10x16. Output = 5x5x16.\n",
    "    conv2 = tf.nn.max_pool(conv2, ksize=[1, 2, 2, 1], strides=[1, 2, 2, 1], padding='VALID')\n",
    "\n",
    "    # Flatten. Input = 5x5x16. Output = 400.\n",
    "    fc0   = flatten(conv2)\n",
    "    \n",
    "    # Layer 3: Fully Connected. Input = 400. Output = 120.\n",
    "    fc1_W = tf.Variable(tf.truncated_normal(shape=(400, 120), mean = mu, stddev = sigma))\n",
    "    fc1_b = tf.Variable(tf.zeros(120))\n",
    "    fc1   = tf.matmul(fc0, fc1_W) + fc1_b\n",
    "    \n",
    "    # Activation.\n",
    "    fc1    = tf.nn.relu(fc1)\n",
    "\n",
    "    # Layer 4: Fully Connected. Input = 120. Output = 84.\n",
    "    fc2_W  = tf.Variable(tf.truncated_normal(shape=(120, 84), mean = mu, stddev = sigma))\n",
    "    fc2_b  = tf.Variable(tf.zeros(84))\n",
    "    fc2    = tf.matmul(fc1, fc2_W) + fc2_b\n",
    "    \n",
    "    # Activation.\n",
    "    fc2    = tf.nn.relu(fc2)\n",
    "\n",
    "    # Layer 5: Fully Connected. Input = 84. Output = 43.\n",
    "    fc3_W  = tf.Variable(tf.truncated_normal(shape=(84, 43), mean = mu, stddev = sigma))\n",
    "    fc3_b  = tf.Variable(tf.zeros(43))\n",
    "    logits = tf.matmul(fc2, fc3_W) + fc3_b\n",
    "    \n",
    "    return logits\n",
    "\n",
    "# \n",
    "x = tf.placeholder(tf.float32, (None, 32, 32, 3))\n",
    "y = tf.placeholder(tf.int32, (None))\n",
    "one_hot_y = tf.one_hot(y, 43)\n",
    "\n",
    "rate = 0.002\n",
    "\n",
    "logits = LeNet(x)\n",
    "cross_entropy = tf.nn.softmax_cross_entropy_with_logits(labels=one_hot_y, logits=logits)\n",
    "loss = tf.reduce_mean(cross_entropy)\n",
    "#optimizer = tf.train.GradientDescentOptimizer(learning_rate = rate)\n",
    "optimizer = tf.train.AdamOptimizer(learning_rate = rate)\n",
    "training_operation = optimizer.minimize(loss)\n",
    "\n",
    "correct_prediction = tf.equal(tf.argmax(logits, 1), tf.argmax(one_hot_y, 1))\n",
    "prediction = tf.argmax(logits, 1)\n",
    "accuracy_operation = tf.reduce_mean(tf.cast(correct_prediction, tf.float32))\n",
    "saver = tf.train.Saver()\n",
    "\n",
    "def evaluate(X_data, y_data):\n",
    "    num_examples = len(X_data)\n",
    "    total_accuracy = 0\n",
    "    sess = tf.get_default_session()\n",
    "    for offset in range(0, num_examples, BATCH_SIZE):\n",
    "        batch_x, batch_y = X_data[offset:offset+BATCH_SIZE], y_data[offset:offset+BATCH_SIZE]\n",
    "        accuracy = sess.run(accuracy_operation, feed_dict={x: batch_x, y: batch_y})\n",
    "        total_accuracy += (accuracy * len(batch_x))\n",
    "    return total_accuracy / num_examples"
   ]
  },
  {
   "cell_type": "markdown",
   "metadata": {},
   "source": [
    "### Train, Validate and Test the Model"
   ]
  },
  {
   "cell_type": "code",
   "execution_count": null,
   "metadata": {
    "scrolled": true
   },
   "outputs": [],
   "source": [
    "with tf.Session() as sess:\n",
    "    sess.run(tf.global_variables_initializer())\n",
    "    num_examples = len(X_train)\n",
    "    \n",
    "    print(\"Training...\")\n",
    "    print()\n",
    "    for i in range(EPOCHS):\n",
    "        for offset in range(0, num_examples, BATCH_SIZE):\n",
    "            end = offset + BATCH_SIZE\n",
    "            batch_x, batch_y = X_train[offset:end], y_train[offset:end]\n",
    "            sess.run(training_operation, feed_dict={x: batch_x, y: batch_y})\n",
    "            \n",
    "        validation_accuracy = evaluate(X_valid, y_valid)\n",
    "        print(\"EPOCH {} ...\".format(i+1))\n",
    "        print(\"Validation Accuracy = {:.3f}\".format(validation_accuracy))\n",
    "        print()\n",
    "        \n",
    "    saver.save(sess, './lenet')\n",
    "    print(\"Model saved\")"
   ]
  },
  {
   "cell_type": "code",
   "execution_count": null,
   "metadata": {},
   "outputs": [],
   "source": [
    "with tf.Session() as sess:\n",
    "    saver.restore(sess, tf.train.latest_checkpoint('.'))\n",
    "\n",
    "    test_accuracy = evaluate(X_test, y_test)\n",
    "    print(\"Test Accuracy = {:.3f}\".format(test_accuracy))"
   ]
  },
  {
   "cell_type": "markdown",
   "metadata": {},
   "source": [
    "### Testing of various image sets"
   ]
  },
  {
   "cell_type": "markdown",
   "metadata": {},
   "source": [
    "#### Unperturbed Signs"
   ]
  },
  {
   "cell_type": "code",
   "execution_count": null,
   "metadata": {},
   "outputs": [],
   "source": [
    "import glob\n",
    "import cv2\n",
    "\n",
    "images = []\n",
    "for path in glob.glob('unperturbed_signs/*.png'):\n",
    "    image = cv2.imread(path)\n",
    "    image = cv2.cvtColor(image, cv2.COLOR_BGR2RGB)\n",
    "    image_arr = np.asarray(image)\n",
    "    images.append(image_arr)\n",
    "\n",
    "images = np.asarray(images)\n",
    "\n",
    "with tf.Session() as sess:\n",
    "    saver.restore(sess, tf.train.latest_checkpoint('.'))\n",
    "    for i, img in enumerate(images):\n",
    "        pred = sess.run(prediction, feed_dict={x: np.array([img])})\n",
    "        plt.subplot(5,2,i+1)\n",
    "        plt.subplots_adjust(hspace=0.8)\n",
    "        plt.axis(\"off\")\n",
    "        plt.title(\"Prediction: \" + str(pred[0]))\n",
    "        plt.imshow(img)  \n",
    "\n",
    "    # Preprocess\n",
    "    X_test2 = ((images - 127.5) / 127.5)\n",
    "    y_test2 = np.array([2, 28, 32, 11, 17, 40, 23, 0, 4, 14])\n",
    "\n",
    "    ### Calculate the accuracy for these 8 new images.\n",
    "    test_accuracy = evaluate(X_test2, y_test2)\n",
    "    print(\"Test Accuracy = {:.3f}\".format(test_accuracy))"
   ]
  },
  {
   "cell_type": "markdown",
   "metadata": {},
   "source": [
    "#### Gaussian Noise"
   ]
  },
  {
   "cell_type": "code",
   "execution_count": null,
   "metadata": {},
   "outputs": [],
   "source": [
    "import glob\n",
    "import cv2\n",
    "\n",
    "images = []\n",
    "for path in glob.glob('gauss_signs/*.png'):\n",
    "    image = cv2.imread(path)\n",
    "    image = cv2.cvtColor(image, cv2.COLOR_BGR2RGB)\n",
    "    image_arr = np.asarray(image)\n",
    "    images.append(image_arr)\n",
    "\n",
    "images = np.asarray(images)\n",
    "\n",
    "with tf.Session() as sess:\n",
    "    saver.restore(sess, tf.train.latest_checkpoint('.'))\n",
    "    for i, img in enumerate(images):\n",
    "        pred = sess.run(prediction, feed_dict={x: np.array([img])})\n",
    "        plt.subplot(5,2,i+1)\n",
    "        plt.subplots_adjust(hspace=0.8)\n",
    "        plt.axis(\"off\")\n",
    "        plt.title(\"Prediction: \" + str(pred[0]))\n",
    "        plt.imshow(img)  \n",
    "\n",
    "    # Preprocess\n",
    "    X_test2 = ((images - 127.5) / 127.5)\n",
    "    y_test2 = np.array([2, 28, 32, 11, 17, 40, 23, 0, 4, 14])\n",
    "\n",
    "    ### Calculate the accuracy for these 8 new images.\n",
    "    test_accuracy = evaluate(X_test2, y_test2)\n",
    "    print(\"Test Accuracy = {:.3f}\".format(test_accuracy))"
   ]
  },
  {
   "cell_type": "markdown",
   "metadata": {},
   "source": [
    "#### Poisson Noise"
   ]
  },
  {
   "cell_type": "code",
   "execution_count": null,
   "metadata": {},
   "outputs": [],
   "source": [
    "import glob\n",
    "import cv2\n",
    "\n",
    "images = []\n",
    "for path in glob.glob('poisson_signs/*.png'):\n",
    "    image = cv2.imread(path)\n",
    "    image = cv2.cvtColor(image, cv2.COLOR_BGR2RGB)\n",
    "    image_arr = np.asarray(image)\n",
    "    images.append(image_arr)\n",
    "\n",
    "images = np.asarray(images)\n",
    "\n",
    "with tf.Session() as sess:\n",
    "    saver.restore(sess, tf.train.latest_checkpoint('.'))\n",
    "    for i, img in enumerate(images):\n",
    "        pred = sess.run(prediction, feed_dict={x: np.array([img])})\n",
    "        plt.subplot(5,2,i+1)\n",
    "        plt.subplots_adjust(hspace=0.8)\n",
    "        plt.axis(\"off\")\n",
    "        plt.title(\"Prediction: \" + str(pred[0]))\n",
    "        plt.imshow(img)  \n",
    "\n",
    "    # Preprocess\n",
    "    X_test2 = ((images - 127.5) / 127.5)\n",
    "    y_test2 = np.array([2, 28, 32, 11, 17, 40, 23, 0, 4, 14])\n",
    "\n",
    "    ### Calculate the accuracy for these 8 new images.\n",
    "    test_accuracy = evaluate(X_test2, y_test2)\n",
    "    print(\"Test Accuracy = {:.3f}\".format(test_accuracy))"
   ]
  },
  {
   "cell_type": "markdown",
   "metadata": {},
   "source": [
    "#### Salt and Pepper Noise"
   ]
  },
  {
   "cell_type": "code",
   "execution_count": null,
   "metadata": {},
   "outputs": [],
   "source": [
    "import glob\n",
    "import cv2\n",
    "\n",
    "images = []\n",
    "for path in glob.glob('salt_and_pep_signs/*.png'):\n",
    "    image = cv2.imread(path)\n",
    "    image = cv2.cvtColor(image, cv2.COLOR_BGR2RGB)\n",
    "    image_arr = np.asarray(image)\n",
    "    images.append(image_arr)\n",
    "\n",
    "images = np.asarray(images)\n",
    "\n",
    "with tf.Session() as sess:\n",
    "    saver.restore(sess, tf.train.latest_checkpoint('.'))\n",
    "    for i, img in enumerate(images):\n",
    "        pred = sess.run(prediction, feed_dict={x: np.array([img])})\n",
    "        plt.subplot(5,2,i+1)\n",
    "        plt.subplots_adjust(hspace=0.8)\n",
    "        plt.axis(\"off\")\n",
    "        plt.title(\"Prediction: \" + str(pred[0]))\n",
    "        plt.imshow(img)  \n",
    "\n",
    "    # Preprocess\n",
    "    X_test2 = ((images - 127.5) / 127.5)\n",
    "    y_test2 = np.array([2, 28, 32, 11, 17, 40, 23, 0, 4, 14])\n",
    "\n",
    "    ### Calculate the accuracy for these 8 new images.\n",
    "    test_accuracy = evaluate(X_test2, y_test2)\n",
    "    print(\"Test Accuracy = {:.3f}\".format(test_accuracy))"
   ]
  },
  {
   "cell_type": "markdown",
   "metadata": {},
   "source": [
    "#### Speckle Noise"
   ]
  },
  {
   "cell_type": "code",
   "execution_count": null,
   "metadata": {},
   "outputs": [],
   "source": [
    "import glob\n",
    "import cv2\n",
    "\n",
    "images = []\n",
    "for path in glob.glob('speckle_signs/*.png'):\n",
    "    image = cv2.imread(path)\n",
    "    image = cv2.cvtColor(image, cv2.COLOR_BGR2RGB)\n",
    "    image_arr = np.asarray(image)\n",
    "    images.append(image_arr)\n",
    "\n",
    "images = np.asarray(images)\n",
    "\n",
    "with tf.Session() as sess:\n",
    "    saver.restore(sess, tf.train.latest_checkpoint('.'))\n",
    "    for i, img in enumerate(images):\n",
    "        pred = sess.run(prediction, feed_dict={x: np.array([img])})\n",
    "        plt.subplot(5,2,i+1)\n",
    "        plt.subplots_adjust(hspace=0.8)\n",
    "        plt.axis(\"off\")\n",
    "        plt.title(\"Prediction: \" + str(pred[0]))\n",
    "        plt.imshow(img)  \n",
    "\n",
    "    # Preprocess\n",
    "    X_test2 = ((images - 127.5) / 127.5)\n",
    "    y_test2 = np.array([2, 28, 32, 11, 17, 40, 23, 0, 4, 14])\n",
    "\n",
    "    ### Calculate the accuracy for these 8 new images.\n",
    "    test_accuracy = evaluate(X_test2, y_test2)\n",
    "    print(\"Test Accuracy = {:.3f}\".format(test_accuracy))"
   ]
  },
  {
   "cell_type": "markdown",
   "metadata": {},
   "source": [
    "#### Random Noise"
   ]
  },
  {
   "cell_type": "code",
   "execution_count": null,
   "metadata": {},
   "outputs": [],
   "source": [
    "import glob\n",
    "import cv2\n",
    "\n",
    "images = []\n",
    "for path in glob.glob('random_noise_signs/*.png'):\n",
    "    image = cv2.imread(path)\n",
    "    image = cv2.cvtColor(image, cv2.COLOR_BGR2RGB)\n",
    "    image_arr = np.asarray(image)\n",
    "    images.append(image_arr)\n",
    "\n",
    "images = np.asarray(images)\n",
    "\n",
    "with tf.Session() as sess:\n",
    "    saver.restore(sess, tf.train.latest_checkpoint('.'))\n",
    "    for i, img in enumerate(images):\n",
    "        pred = sess.run(prediction, feed_dict={x: np.array([img])})\n",
    "        plt.subplot(5,2,i+1)\n",
    "        plt.subplots_adjust(hspace=0.8)\n",
    "        plt.axis(\"off\")\n",
    "        plt.title(\"Prediction: \" + str(pred[0]))\n",
    "        plt.imshow(img)  \n",
    "\n",
    "    # Preprocess\n",
    "    X_test2 = ((images - 127.5) / 127.5)\n",
    "    y_test2 = np.array([2, 28, 32, 11, 17, 40, 23, 0, 4, 14])\n",
    "\n",
    "    ### Calculate the accuracy for these 8 new images.\n",
    "    test_accuracy = evaluate(X_test2, y_test2)\n",
    "    print(\"Test Accuracy = {:.3f}\".format(test_accuracy))"
   ]
  },
  {
   "cell_type": "markdown",
   "metadata": {},
   "source": [
    "#### FGSM Adversarial Images"
   ]
  },
  {
   "cell_type": "code",
   "execution_count": null,
   "metadata": {},
   "outputs": [],
   "source": [
    "import glob\n",
    "import cv2\n",
    "\n",
    "images = []\n",
    "for path in glob.glob('adversarial_signs/*.png'):\n",
    "    image = cv2.imread(path)\n",
    "    image = cv2.cvtColor(image, cv2.COLOR_BGR2RGB)\n",
    "    image_arr = np.asarray(image)\n",
    "    images.append(image_arr)\n",
    "\n",
    "images = np.asarray(images)\n",
    "\n",
    "with tf.Session() as sess:\n",
    "    saver.restore(sess, tf.train.latest_checkpoint('.'))\n",
    "    for i, img in enumerate(images):\n",
    "        pred = sess.run(prediction, feed_dict={x: np.array([img])})\n",
    "        plt.subplot(5,2,i+1)\n",
    "        plt.subplots_adjust(hspace=0.8)\n",
    "        plt.axis(\"off\")\n",
    "        plt.title(\"Prediction: \" + str(pred[0]))\n",
    "        plt.imshow(img)  \n",
    "\n",
    "    # Preprocess\n",
    "    X_test2 = ((images - 127.5) / 127.5)\n",
    "    y_test2 = np.array([2, 28, 32, 11, 17, 40, 23, 0, 4, 14])\n",
    "\n",
    "    ### Calculate the accuracy for these 8 new images.\n",
    "    test_accuracy = evaluate(X_test2, y_test2)\n",
    "    print(\"Test Accuracy = {:.3f}\".format(test_accuracy))"
   ]
  }
 ],
 "metadata": {
  "anaconda-cloud": {},
  "kernelspec": {
   "display_name": "Python 3",
   "language": "python",
   "name": "python3"
  },
  "language_info": {
   "codemirror_mode": {
    "name": "ipython",
    "version": 3
   },
   "file_extension": ".py",
   "mimetype": "text/x-python",
   "name": "python",
   "nbconvert_exporter": "python",
   "pygments_lexer": "ipython3",
   "version": "3.7.4"
  },
  "widgets": {
   "state": {},
   "version": "1.1.2"
  }
 },
 "nbformat": 4,
 "nbformat_minor": 1
}
